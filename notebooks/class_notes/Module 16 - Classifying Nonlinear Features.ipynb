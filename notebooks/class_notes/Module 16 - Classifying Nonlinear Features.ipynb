{
 "cells": [
  {
   "cell_type": "markdown",
   "id": "5a2a815e",
   "metadata": {},
   "source": [
    "# Module 16: Classifying Nonlinear Features\n",
    "\n",
    "## Learning Outcomes\n",
    "- • Identify nonlinear features in a dataset.\n",
    "- • Compare classification models to assess boundary definitions.\n",
    "- • Apply kernels to logistic regression models to automatically build nonlinear boundaries.\n",
    "- • Compare large- and small-margin classifiers.\n",
    "- • Calculate the maximum margin given a dataset.\n",
    "- • Create maximum margin classifier visualizations in scikit-learn.\n",
    "- • Articulate the working of the kernel functions in SVM using scikit-learn.\n",
    "- • Tune kernel and regularization parameters given a dataset.\n",
    "- • Discuss the results and trade-offs of various techniques.\n",
    "- • Refine your problem statement to include a research question, expected data sources and structure, expected results and techniques.\n",
    "\n",
    "## Key Activities\n",
    "- • Videos 16.1–16.6\n",
    "- • Mini-Lesson 16.1\n",
    "- • Required Knowledge Checks 16.1–16.4\n",
    "- • Required Codio Assignments 16.1 and 16.2\n",
    "- • Required Discussion 16.1\n",
    "- • Required Capstone Assignment 16.1\n",
    "- • Self-Study Colab Activities 16.1–16.6\n",
    "\n",
    "## Notes\n",
    "\n",
    "## Example Code\n",
    "\n",
    "## Summary\n",
    "\n"
   ]
  }
 ],
 "metadata": {},
 "nbformat": 4,
 "nbformat_minor": 5
}
