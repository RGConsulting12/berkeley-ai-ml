{
 "cells": [
  {
   "cell_type": "markdown",
   "id": "6d39c023",
   "metadata": {},
   "source": [
    "# Module 20: Ensemble Techniques\n",
    "\n",
    "## Learning Outcomes\n",
    "- • Relate the concepts of bias and variance to real-world examples.\n",
    "- • Employ the concept of aggregating predictors for bagging in ensemble model.\n",
    "- • Build a metamodel for classification and regression problems.\n",
    "- • Evaluate the performance of various metamodels.\n",
    "- • Implement bootstrapping on a dataset.\n",
    "- • Implement bagging on a metamodel.\n",
    "- • Apply out-of-bag evaluation in scikit-learn.\n",
    "- • Articulate the key concepts and parameters of the Random Forest algorithm in scikit-learn.\n",
    "- • Design random forests for classification and regression problems.\n",
    "- • Implement the AdaBoost algorithm.\n",
    "- • Compare the AdaBoost algorithm with gradient boosted trees.\n",
    "- • Perform a deep analysis of your identified problem in order to develop an executive brief detailing your technical findings.\n",
    "\n",
    "## Key Activities\n",
    "- • Videos 20.1–20.9\n",
    "- • Mini-Lessons 20.1\n",
    "- • Required Knowledge Checks 20.1–20.6\n",
    "- • Required Try-It Activity 20.1\n",
    "- • Required Codio Assignments 20.1–20.3\n",
    "- • Self-Study Colab Activities 20.1–20.3\n",
    "\n",
    "## Notes\n",
    "\n",
    "## Example Code\n",
    "\n",
    "## Summary\n",
    "\n"
   ]
  }
 ],
 "metadata": {},
 "nbformat": 4,
 "nbformat_minor": 5
}
