{
 "cells": [
  {
   "cell_type": "markdown",
   "id": "033a3877",
   "metadata": {},
   "source": [
    "# Module 11: Practical Application 2\n",
    "\n",
    "## Learning Outcomes\n",
    "- • Apply the CRISP-DM framework to a business problem.\n",
    "\n",
    "## Key Activities\n",
    "- • Videos 11.1 and 11.2\n",
    "- • Required Assignment 11.1\n",
    "\n",
    "## Notes\n",
    "\n",
    "## Example Code\n",
    "\n",
    "## Summary\n",
    "\n"
   ]
  }
 ],
 "metadata": {},
 "nbformat": 4,
 "nbformat_minor": 5
}
