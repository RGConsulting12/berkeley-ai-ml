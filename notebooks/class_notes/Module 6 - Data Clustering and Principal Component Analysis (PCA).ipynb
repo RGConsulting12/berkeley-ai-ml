{
 "cells": [
  {
   "cell_type": "markdown",
   "id": "bf1c783c",
   "metadata": {},
   "source": [
    "# Module 6: Data Clustering and Principal Component Analysis (PCA)\n",
    "\n",
    "## Learning Outcomes\n",
    "- • Apply SVD to a specific dataset.\n",
    "- • Analyze the results of PCA in a specific context.\n",
    "- • Interpret the singular value and the results of PCA.\n",
    "- • Apply the k-means algorithm in Python.\n",
    "- • Compare the two different ways of initializing centroids (k-means++ vs. random initialization).\n",
    "- • Compare results of multiple clustering techniques on a given dataset.\n",
    "- • Interpret the results of k-means and PCA given an initial dataset.\n",
    "- • Evaluate various clustering algorithms by examining the clustering shapes and their ability to detect outliers in a given dataset.\n",
    "- • Draft a problem statement.\n",
    "\n",
    "## Key Activities\n",
    "- • Videos 6.1–6.8\n",
    "- • Mini-Lessons 6.1–6.4\n",
    "- • Required Knowledge Checks 6.1–6.5\n",
    "- • Required Codio Assignments 6.1–6.4\n",
    "- • Self-Study Colab Activities 6.1 and 6.2\n",
    "\n",
    "## Notes\n",
    "\n",
    "## Example Code\n",
    "\n",
    "## Summary\n",
    "\n"
   ]
  }
 ],
 "metadata": {},
 "nbformat": 4,
 "nbformat_minor": 5
}
