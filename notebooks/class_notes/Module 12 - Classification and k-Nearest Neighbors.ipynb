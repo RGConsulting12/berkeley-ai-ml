{
 "cells": [
  {
   "cell_type": "markdown",
   "id": "3c724990",
   "metadata": {},
   "source": [
    "# Module 12: Classification and k-Nearest Neighbors\n",
    "\n",
    "## Learning Outcomes\n",
    "- • Explain the concept of classification with an email spam detection example.\n",
    "- • Train a nearest neighbor classifier using cross-validation.\n",
    "- • Use k to minimize misclassification error.\n",
    "- • Use cross-validation to pick hyperparameters that optimize the metric of your choosing.\n",
    "- • Describe the effect on threshold and choice of k using the predict_proba function in scikit-learn.\n",
    "- • Create a visualization of KNN decision boundaries as a function of k and threshold.\n",
    "- • Assess the trade-offs between classifier metrics.\n",
    "- • Compute the real value output by using a regression function with KNN.\n",
    "- • Compare the accuracy and interpretability of a properly trained linear regression and a KNN regression model.\n",
    "\n",
    "## Key Activities\n",
    "- • Videos 12.1–12.10\n",
    "- • Mini-Lessons 12.1–12.3\n",
    "- • Required Knowledge Checks 12.1–12.5\n",
    "- • Required Codio Assignments 12.1–12.4\n",
    "- • Self-Study Colab Activities 12.1–12.3\n",
    "\n",
    "## Notes\n",
    "\n",
    "## Example Code\n",
    "\n",
    "## Summary\n",
    "\n"
   ]
  }
 ],
 "metadata": {},
 "nbformat": 4,
 "nbformat_minor": 5
}
