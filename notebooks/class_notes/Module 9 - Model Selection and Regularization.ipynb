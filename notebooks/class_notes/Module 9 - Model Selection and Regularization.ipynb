{
 "cells": [
  {
   "cell_type": "markdown",
   "id": "cae49e83",
   "metadata": {},
   "source": [
    "# Module 9: Model Selection and Regularization\n",
    "\n",
    "## Learning Outcomes\n",
    "- • Identify the effect of polynomial features on Multidimensional data.\n",
    "- • Utilize sequential feature selection to explore model complexity.\n",
    "- • Apply regularization to control model complexity.\n",
    "- • Use regularization parameter \"alpha\" in ridge regression.\n",
    "- • Employ StandardScalar in ridge regularization.\n",
    "- • Scale data using standardization to avoid over-penalizing features in a regularized model.\n",
    "- • Apply GridSearchCV to select the optimal value for alpha.\n",
    "- • Select features using Lasso regression.\n",
    "- • Evaluate the differences between leave-one-out cross-validation, K-fold cross-validation, and holdout cross-validation.\n",
    "\n",
    "## Key Activities\n",
    "- • Videos 9.1–9.11\n",
    "- • Required Knowledge Checks 9.1–9.8\n",
    "- • Required Codio Assignments 9.1–9.4\n",
    "- • Self-Study Colab Activities 9.1–9.3\n",
    "- • Self-Study Try-It Activity 9.1\n",
    "- • Self-Study Discussion 9.1\n",
    "\n",
    "## Notes\n",
    "\n",
    "## Example Code\n",
    "\n",
    "## Summary\n",
    "\n"
   ]
  }
 ],
 "metadata": {},
 "nbformat": 4,
 "nbformat_minor": 5
}
