{
 "cells": [
  {
   "cell_type": "markdown",
   "id": "271321a1",
   "metadata": {},
   "source": [
    "# Module 7: Linear and Multiple Regressions\n",
    "\n",
    "## Learning Outcomes\n",
    "- • Differentiate between a linear and nonlinear model.\n",
    "- • Fit a simple linear regression model using scikit-learn and Plotly.\n",
    "- • Compute loss in prediction in order to minimize it.\n",
    "- • Compute the squared error and absolute error.\n",
    "- • Apply the scipy.optimize function to minimize the loss function.\n",
    "- • Apply multiple techniques to minimize a loss function.\n",
    "- • Recognize the use of mean absolute error (MAE) and mean squared error (MSE).\n",
    "- • Predict outcomes using a multiple linear regression model.\n",
    "- • Recognize ordinal, nominal, and categorical data within a dataset.\n",
    "\n",
    "## Key Activities\n",
    "- • Videos 7.1–7.12\n",
    "- • Mini-Lessons 7.1–7.3\n",
    "- • Required Knowledge Checks 7.1–7.7\n",
    "- • Required Codio Assignments 7.1–7.4\n",
    "- • Self-Study Colab Activities 7.1–7.2\n",
    "\n",
    "## Notes\n",
    "\n",
    "## Example Code\n",
    "\n",
    "## Summary\n",
    "\n"
   ]
  }
 ],
 "metadata": {},
 "nbformat": 4,
 "nbformat_minor": 5
}
