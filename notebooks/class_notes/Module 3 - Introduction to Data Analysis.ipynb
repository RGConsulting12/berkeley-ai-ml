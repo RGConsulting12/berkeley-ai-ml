{
 "cells": [
  {
   "cell_type": "markdown",
   "id": "a03c6585",
   "metadata": {},
   "source": [
    "# Module 3: Introduction to Data Analysis\n",
    "\n",
    "## Learning Outcomes\n",
    "- • Discuss real-world contexts for the data science lifecycle.\n",
    "- • Demonstrate the uses of different pandas functions.\n",
    "- • Manipulate data given a dataset.\n",
    "- • Choose appropriate visualizing functions.\n",
    "- • Generate visualizations using pandas, seaborn, and Plotly.\n",
    "- • Customize plots using externally sourced documentation.\n",
    "- • Use pandas.groupby to manipulate data.\n",
    "- • Demonstrate sorting and aggregating operations using pandas.\n",
    "- • Perform computations between DataFrames using set index and reset index.\n",
    "- • Demonstrate different indexing and filtering techniques using pandas.\n",
    "\n",
    "## Key Activities\n",
    "- • Videos 3.1–3.10\n",
    "- • Mini-Lessons 3.1–3.2\n",
    "- • Required Knowledge Checks 3.1–3.4\n",
    "- • Required Discussion 3.1\n",
    "- • Required Codio Assignments 3.1–3.4\n",
    "- • Self-Study Try-It Activity 3.1\n",
    "- • Self-Study Colab Activities 3.1–3.3\n",
    "\n",
    "## Notes\n",
    "\n",
    "## Example Code\n",
    "\n",
    "## Summary\n",
    "\n"
   ]
  }
 ],
 "metadata": {},
 "nbformat": 4,
 "nbformat_minor": 5
}
