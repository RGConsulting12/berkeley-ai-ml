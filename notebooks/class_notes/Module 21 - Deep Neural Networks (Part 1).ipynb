{
 "cells": [
  {
   "cell_type": "markdown",
   "id": "e1e9df3b",
   "metadata": {},
   "source": [
    "# Module 21: Deep Neural Networks (Part 1)\n",
    "\n",
    "## Learning Outcomes\n",
    "- • Articulate the basics and evolution of neural networks.\n",
    "- • Compute the output of a neural network given parameters and data.\n",
    "- • Train a simple neural network.\n",
    "- • Apply the basics of Keras for developing machine learning models.\n",
    "- • Use Keras to create, compile, fit, and evaluate a model.\n",
    "- • Select the appropriate output layer and loss function for multiclass classification.\n",
    "- • Adjust hyperparameters and model architecture to maximize model generalizability.\n",
    "\n",
    "## Key Activities\n",
    "- • Videos 21.1–21.9\n",
    "- • Mini-Lessons 21.1 and 21.2\n",
    "- • Required Knowledge Checks 21.1–21.4\n",
    "- • Required Codio Assignments 21.1–21.3\n",
    "- • Self-Study Colab Activities 21.1–21.6\n",
    "\n",
    "## Notes\n",
    "\n",
    "## Example Code\n",
    "\n",
    "## Summary\n",
    "\n"
   ]
  }
 ],
 "metadata": {},
 "nbformat": 4,
 "nbformat_minor": 5
}
