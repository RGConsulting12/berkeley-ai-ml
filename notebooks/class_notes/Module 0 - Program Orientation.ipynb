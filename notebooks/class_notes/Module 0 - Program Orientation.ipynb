{
 "cells": [
  {
   "cell_type": "markdown",
   "id": "d2e3984e",
   "metadata": {},
   "source": [
    "# Module 0: Program Orientation\n",
    "\n",
    "## Key Activities\n",
    "- • Program Introduction\n",
    "- • Learning Platform Overview\n",
    "- • Introduce Yourself\n",
    "- • Program Agreement\n",
    "\n",
    "## Notes\n",
    "\n",
    "## Example Code\n",
    "\n",
    "## Summary\n",
    "\n"
   ]
  }
 ],
 "metadata": {},
 "nbformat": 4,
 "nbformat_minor": 5
}
