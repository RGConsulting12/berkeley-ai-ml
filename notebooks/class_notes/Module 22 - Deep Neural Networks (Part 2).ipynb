{
 "cells": [
  {
   "cell_type": "markdown",
   "id": "030fbcfa",
   "metadata": {},
   "source": [
    "# Module 22: Deep Neural Networks (Part 2)\n",
    "\n",
    "## Learning Outcomes\n",
    "- • Articulate the basics of a CNN and its different layers.\n",
    "- • Process images in preparation for training a neural network.\n",
    "- • Train a neural network to recognize items and images.\n",
    "- • Use a pretrained network to enhance model performance.\n",
    "- • Interpret a neural network model.\n",
    "- • Compare an LSTM network to time series analysis.\n",
    "- • Train an LSTM network for time series analysis.\n",
    "- • Apply neural network techniques to a linear regression problem.\n",
    "- • Apply AI/ML techniques to a specific field you are interested in.\n",
    "\n",
    "## Key Activities\n",
    "- • Videos 22.1–22.7\n",
    "- • Mini-Lessons 22.1–22.3\n",
    "- • Required Knowledge Checks 22.1–22.3\n",
    "- • Required Codio Assignments 22.1–22.5\n",
    "- • Self-Study Discussion 22.1\n",
    "- • Self-Study Try-It Activities 22.1–22.2\n",
    "\n",
    "## Notes\n",
    "\n",
    "## Example Code\n",
    "\n",
    "## Summary\n",
    "\n"
   ]
  }
 ],
 "metadata": {},
 "nbformat": 4,
 "nbformat_minor": 5
}
