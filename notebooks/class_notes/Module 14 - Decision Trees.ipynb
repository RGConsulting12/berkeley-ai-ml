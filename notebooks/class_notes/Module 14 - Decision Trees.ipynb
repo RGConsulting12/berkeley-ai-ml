{
 "cells": [
  {
   "cell_type": "markdown",
   "id": "61435a76",
   "metadata": {},
   "source": [
    "# Module 14: Decision Trees\n",
    "\n",
    "## Learning Outcomes\n",
    "- • Identify the correct statements regarding decision trees and their outputs.\n",
    "- • Build a decision tree manually.\n",
    "- • Articulate the correct inputs for building decision trees using scikit-learn and visualizing them using Graphiz.\n",
    "- • Train a decision tree model with desired hyperparameters using scikit-learn.\n",
    "- • Visualize a decision tree.\n",
    "- • Evaluate decision tree splits.\n",
    "- • Evaluate overfitting of decision trees.\n",
    "- • Measure the impurity of a decision tree using entropy.\n",
    "- • Compare the performance of different grid search algorithms.\n",
    "- • Implement the decision tree algorithm.\n",
    "\n",
    "## Key Activities\n",
    "- • Videos 14.1–14.11\n",
    "- • Mini-Lessons 14.1–14.5\n",
    "- • Required Knowledge Checks 14.1–14.4\n",
    "- • Required Codio Assignments 14.1–14.3\n",
    "- • Required Discussion 14.1\n",
    "- • Required Try-It Activity 14.2\n",
    "- • Self-Study Colab Activities 14.1–14.3\n",
    "- • Self-Study Try-It Activity 14.1\n",
    "\n",
    "## Notes\n",
    "\n",
    "## Example Code\n",
    "\n",
    "## Summary\n",
    "\n"
   ]
  }
 ],
 "metadata": {},
 "nbformat": 4,
 "nbformat_minor": 5
}
