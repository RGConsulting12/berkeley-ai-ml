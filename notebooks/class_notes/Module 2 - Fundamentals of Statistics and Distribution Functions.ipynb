{
 "cells": [
  {
   "cell_type": "markdown",
   "id": "151f6829",
   "metadata": {},
   "source": [
    "# Module 2: Fundamentals of Statistics and Distribution Functions\n",
    "\n",
    "## Learning Outcomes\n",
    "- • Differentiate between normal and uniform distributions.\n",
    "- • Evaluate measures of uniform distribution using SciPy.\n",
    "- • Create and interpret visual plots, including probability density functions, histograms, scatter plots, pair plots, and correlation matrices.\n",
    "- • Discuss applications of the central limit theorem.\n",
    "- • Compute the mean and variance of univariate Gaussian distributions.\n",
    "- • Apply the law of large numbers to a given population.\n",
    "- • Explain covariance and correlation in multivariate distributions.\n",
    "- • Plot multivariate datasets.\n",
    "- • Compute measures of central tendency for univariate and multivariate distributions using pandas.\n",
    "- • Interpret a sample covariance matrix using Python.\n",
    "- • Identify correlations from scatter plots and conditional probabilities.\n",
    "\n",
    "## Key Activities\n",
    "- • Videos 2.1–2.6\n",
    "- • Mini-Lessons 2.1–2.3\n",
    "- • Required Knowledge Checks 2.1–1.5\n",
    "- • Required Codio Assignments 2.1–2.4\n",
    "- • Self-Study Discussion 2.1\n",
    "- • Self-Study Try-It Activities 2.1 and 2.2\n",
    "- • Self-Study Colab Activities 2.1–2.4\n",
    "\n",
    "## Notes\n",
    "\n",
    "## Example Code\n",
    "\n",
    "## Summary\n",
    "\n"
   ]
  }
 ],
 "metadata": {},
 "nbformat": 4,
 "nbformat_minor": 5
}
