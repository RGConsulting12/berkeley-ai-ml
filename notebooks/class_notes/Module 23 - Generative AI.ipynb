{
 "cells": [
  {
   "cell_type": "markdown",
   "id": "dbccd8be",
   "metadata": {},
   "source": [
    "# Module 23: Generative AI\n",
    "\n",
    "## Learning Outcomes\n",
    "- • Identify the limitations of generative techniques.\n",
    "- • Distinguish between the learning techniques of Gen AI.\n",
    "- • Configure a diffusion model to generate personalized AI images.\n",
    "- • Test different Gen AI models to compare similarities and differences.\n",
    "- • Generate a narrative using AI text generators in order to effectively evaluate data patterns.\n",
    "- • Calculate the similarity between sentences using transformers.\n",
    "- • Evaluate the effectiveness of Gen AI application examples.\n",
    "- • Identify current business applications of Gen AI technologies in finance, education, or healthcare.\n",
    "- • Generate a prompt for a Gen AI platform in order to analyze its effectiveness.\n",
    "\n",
    "## Key Activities\n",
    "- • Videos 23.1–23.8\n",
    "- • Mini-Lessons 23.1–23.3\n",
    "- • Required Knowledge Checks 23.1–23.2\n",
    "- • Required Codio Assignment 23.1\n",
    "- • Required Discussion 23.1-23.2\n",
    "- • Required Assignment 23.1\n",
    "- • Self-Study Colab Activities 23.1–23.2\n",
    "- • Self-Study Discussions 23.1–23.2\n",
    "\n",
    "## Notes\n",
    "\n",
    "## Example Code\n",
    "\n",
    "## Summary\n",
    "\n"
   ]
  }
 ],
 "metadata": {},
 "nbformat": 4,
 "nbformat_minor": 5
}
