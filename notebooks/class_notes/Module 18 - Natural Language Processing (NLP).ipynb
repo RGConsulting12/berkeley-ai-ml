{
 "cells": [
  {
   "cell_type": "markdown",
   "id": "ce0b4891",
   "metadata": {},
   "source": [
    "# Module 18: Natural Language Processing (NLP)\n",
    "\n",
    "## Learning Outcomes\n",
    "- • Identify the similarities and differences between text and numerical data.\n",
    "- • Convert text data to numerical data using NLTK.\n",
    "- • Tokenize blocks of text.\n",
    "- • Decide what features to extract from a text for a particular classification purpose.\n",
    "- • Implement feature extraction using NLTK.\n",
    "- • Use Bag-of-Words and TF-IDF algorithms to convert text data to numerical representation.\n",
    "- • Classify text data using Bag-of-Words, TF-IDF, and logistic regression algorithms.\n",
    "- • Compare the results of classification on text data using several models.\n",
    "- • Apply the naïve Bayes classifier.\n",
    "\n",
    "## Key Activities\n",
    "- • Videos 18.1–18.6\n",
    "- • Mini-Lessons 18.1–18.7\n",
    "- • Required Knowledge Checks 18.1–18.5\n",
    "- • Required Codio Assignments 18.1–18.3\n",
    "- • Self-Study Colab Activities 18.1–18.3\n",
    "- • Self-Study Try-It Activity 18.1\n",
    "\n",
    "## Notes\n",
    "\n",
    "## Example Code\n",
    "\n",
    "## Summary\n",
    "\n"
   ]
  }
 ],
 "metadata": {},
 "nbformat": 4,
 "nbformat_minor": 5
}
