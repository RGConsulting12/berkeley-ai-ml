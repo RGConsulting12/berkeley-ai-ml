{
 "cells": [
  {
   "cell_type": "markdown",
   "id": "33806e70",
   "metadata": {},
   "source": [
    "# Module 10: Time Series Analysis and Forecasting\n",
    "\n",
    "## Learning Outcomes\n",
    "- • Describe the forecasting problem.\n",
    "- • Use modeling in time series forecasting with the effect of autocorrelations.\n",
    "- • Compute the sample autocorrelation and partial autocorrelation functions for a time series.\n",
    "- • Construct a model using classical time series decomposition.\n",
    "- • Differentiate between key characteristics of the autoregressive model and moving average model.\n",
    "- • Use the ACF and PACF to select the orders of an ARMA model.\n",
    "- • Interpret a forecast and its uncertainty.\n",
    "- • Determine the invertibility and stationarity of ARMA model and use ACF and PACF to select the order of ARMA model.\n",
    "\n",
    "## Key Activities\n",
    "- • Videos 10.1–10.13\n",
    "- • Mini-Lessons 10.1 and 10.2\n",
    "- • Required Knowledge Checks 10.1–10.4\n",
    "- • Required Codio Assignments 10.1–10.4\n",
    "- • Self-Study Colab Activities 10.1–10.3\n",
    "\n",
    "## Notes\n",
    "\n",
    "## Example Code\n",
    "\n",
    "## Summary\n",
    "\n"
   ]
  }
 ],
 "metadata": {},
 "nbformat": 4,
 "nbformat_minor": 5
}
