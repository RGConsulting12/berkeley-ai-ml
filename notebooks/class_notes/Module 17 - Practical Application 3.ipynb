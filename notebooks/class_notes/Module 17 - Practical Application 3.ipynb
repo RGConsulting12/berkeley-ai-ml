{
 "cells": [
  {
   "cell_type": "markdown",
   "id": "6e11a2b1",
   "metadata": {},
   "source": [
    "# Module 17: Practical Application 3\n",
    "\n",
    "## Learning Outcomes\n",
    "- • Apply various classification methods to a business problem.\n",
    "- • Compare the results of k-nearest neighbors, logistic regression, decision trees, and support vector machines.\n",
    "\n",
    "## Key Activities\n",
    "- • Videos 17.1 and 17.2\n",
    "- • Required Assignment 17.1\n",
    "\n",
    "## Notes\n",
    "\n",
    "## Example Code\n",
    "\n",
    "## Summary\n",
    "\n"
   ]
  }
 ],
 "metadata": {},
 "nbformat": 4,
 "nbformat_minor": 5
}
