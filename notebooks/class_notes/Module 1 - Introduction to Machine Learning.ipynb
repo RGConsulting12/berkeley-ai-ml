{
 "cells": [
  {
   "cell_type": "markdown",
   "id": "08f15d59",
   "metadata": {},
   "source": [
    "# Module 1: Introduction to Machine Learning\n",
    "\n",
    "## Learning Outcomes\n",
    "- • Identify examples of the mystery box metaphor within your industry or personal experience.\n",
    "- • Establish the correct ML notation and concepts.\n",
    "- • Determine measures of discrete vs. continuous probability functions.\n",
    "- • Distinguish between measures of central tendency.\n",
    "- • Search for two data sources online and examine their characteristics.\n",
    "- • Identify functions and codes related to DataFrames.\n",
    "- • Load data into a DataFrame using pandas.\n",
    "- • Analyze data using selection and statistical techniques.\n",
    "- • Analyze different data visualization techniques.\n",
    "- • Create histograms and data visualizations.\n",
    "\n",
    "## Key Activities\n",
    "- • Videos 1.1–1.6\n",
    "- • Mini-Lessons 1.1–1.5\n",
    "- • Required Knowledge Checks 1.1–1.6\n",
    "- • Required Discussions 1.1–1.3\n",
    "- • Required Codio Activities 1.1–1.3\n",
    "- • Self-Study Try-It Activities 1.1 and 1.2\n",
    "- • Self-Study Colab Activity 1.1\n",
    "\n",
    "## Notes\n",
    "\n",
    "## Example Code\n",
    "\n",
    "## Summary\n",
    "\n"
   ]
  }
 ],
 "metadata": {},
 "nbformat": 4,
 "nbformat_minor": 5
}
