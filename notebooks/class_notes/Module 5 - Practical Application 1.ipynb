{
 "cells": [
  {
   "cell_type": "markdown",
   "id": "2d2c5d94",
   "metadata": {},
   "source": [
    "# Module 5: Practical Application 1\n",
    "\n",
    "## Learning Outcomes\n",
    "- • Create a GitHub portfolio.\n",
    "- • Apply exploratory data analysis, plotting, statistical summarization, and data visualization skills and techniques to a machine learning problem.\n",
    "\n",
    "## Key Activities\n",
    "- • Video 5.1\n",
    "- • Required Assignment 5.1\n",
    "- • Self-Study Try-It Activity 5.1\n",
    "- • Self-Study Discussion 5.1\n",
    "\n",
    "## Notes\n",
    "\n",
    "## Example Code\n",
    "\n",
    "## Summary\n",
    "\n"
   ]
  }
 ],
 "metadata": {},
 "nbformat": 4,
 "nbformat_minor": 5
}
