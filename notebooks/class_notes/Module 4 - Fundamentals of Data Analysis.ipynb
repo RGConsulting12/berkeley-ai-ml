{
 "cells": [
  {
   "cell_type": "markdown",
   "id": "05b5d231",
   "metadata": {},
   "source": [
    "# Module 4: Fundamentals of Data Analysis\n",
    "\n",
    "## Learning Outcomes\n",
    "- • Demonstrate pandas.merge to join datasets.\n",
    "- • Use pandas.merge to join with multiple fields using multiple variables in pandas.\n",
    "- • Perform merge operations on datasets.\n",
    "- • Use different plotting techniques in Seaborn and Plotly with pandas DataFrame to visualize the data.\n",
    "- • Create a variety of plot types in pandas, Seaborn, and Plotly.\n",
    "- • Discuss the advantages and disadvantages of each plotting library.\n",
    "- • Perform string manipulation in pandas.\n",
    "- • Import and clean messy data from real-world datasets.\n",
    "\n",
    "## Key Activities\n",
    "- • Videos 4.1–4.11\n",
    "- • Mini-Lessons 4.1–4.4\n",
    "- • Required Knowledge Checks 4.1–4.5\n",
    "- • Required Codio Assignments 4.1–4.3\n",
    "- • Self-Study Colab Activities 4.1-4.5\n",
    "\n",
    "## Notes\n",
    "\n",
    "## Example Code\n",
    "\n",
    "## Summary\n",
    "\n"
   ]
  }
 ],
 "metadata": {},
 "nbformat": 4,
 "nbformat_minor": 5
}
