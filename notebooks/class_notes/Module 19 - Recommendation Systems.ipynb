{
 "cells": [
  {
   "cell_type": "markdown",
   "id": "912ecaf8",
   "metadata": {},
   "source": [
    "# Module 19: Recommendation Systems\n",
    "\n",
    "## Learning Outcomes\n",
    "- • Compute missing ratings from a rating dataset.\n",
    "- • Evaluate the trade-off between the number of factors and model performance.\n",
    "- • Calculate users' predictions using linear regression.\n",
    "- • Utilize collaborative filtering to understand users' predictions.\n",
    "- • Implement the Simon Funk SVD gradient descent algorithm for collaborative filtering.\n",
    "- • Use the SURPRISE library to build and analyze recommender systems on real datasets.\n",
    "- • Articulate the significance of a hybrid recommendation system.\n",
    "- • Determine why a surprise recommendation may occur on a recommendation system.\n",
    "\n",
    "## Key Activities\n",
    "- • Videos 19.1–19.9\n",
    "- • Mini-Lessons 19.1–19.4\n",
    "- • Required Knowledge Checks 19.1–19.6\n",
    "- • Required Codio Assignments 19.1–19.3\n",
    "- • Required Discussion 19.1\n",
    "- • Self-Study Colab Activities 19.1–19.3\n",
    "- • Self-Study Discussion 19.1\n",
    "\n",
    "## Notes\n",
    "\n",
    "## Example Code\n",
    "\n",
    "## Summary\n",
    "\n"
   ]
  }
 ],
 "metadata": {},
 "nbformat": 4,
 "nbformat_minor": 5
}
