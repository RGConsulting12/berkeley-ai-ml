{
 "cells": [
  {
   "cell_type": "markdown",
   "id": "66dd37fe",
   "metadata": {},
   "source": [
    "# Module 8: Feature Engineering and Overfitting\n",
    "\n",
    "## Learning Outcomes\n",
    "- • Articulate model fitting for nonlinear features.\n",
    "- • Generate nonlinear features for use by a linear model.\n",
    "- • Describe the difference between inference and prediction.\n",
    "- • Use scikit-learn transformers for generating polynomial features and prediction.\n",
    "- • Demonstrate the uses of different pandas functions.\n",
    "- • Articulate the definitions and relationships yielded from overfitting.\n",
    "- • Analyze the relationship between generalization and overfitting.\n",
    "- • Evaluate the complexity of various pipeline models.\n",
    "- • Select the best model based on validation data.\n",
    "- • Use a validation set for model selection to avoid overfitting.\n",
    "- • Use a test set for final model evaluation.\n",
    "- • Create and evaluate a linear regression model with nonlinear features using scikit-learn.\n",
    "\n",
    "## Key Activities\n",
    "- • Videos 8.1–8.10\n",
    "- • Mini-Lessons 8.1–8.5\n",
    "- • Required Knowledge Checks 8.1–8.7\n",
    "- • Required Codio Assignments 8.1–8.3\n",
    "- • Self-Study Colab Activities 8.1–8.4\n",
    "\n",
    "## Notes\n",
    "\n",
    "## Example Code\n",
    "\n",
    "## Summary\n",
    "\n"
   ]
  }
 ],
 "metadata": {},
 "nbformat": 4,
 "nbformat_minor": 5
}
